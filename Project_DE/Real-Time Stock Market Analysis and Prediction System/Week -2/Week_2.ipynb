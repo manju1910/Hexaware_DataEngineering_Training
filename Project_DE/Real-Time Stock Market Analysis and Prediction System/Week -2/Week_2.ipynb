{
  "nbformat": 4,
  "nbformat_minor": 0,
  "metadata": {
    "colab": {
      "provenance": []
    },
    "kernelspec": {
      "name": "python3",
      "display_name": "Python 3"
    },
    "language_info": {
      "name": "python"
    }
  },
  "cells": [
    {
      "cell_type": "code",
      "execution_count": 1,
      "metadata": {
        "colab": {
          "base_uri": "https://localhost:8080/"
        },
        "id": "fzrmv47RoTYb",
        "outputId": "0a1d1868-a52f-4ea2-b5e8-3ba201e48bce"
      },
      "outputs": [
        {
          "output_type": "stream",
          "name": "stdout",
          "text": [
            "Collecting pyspark\n",
            "  Downloading pyspark-3.5.2.tar.gz (317.3 MB)\n",
            "\u001b[2K     \u001b[90m━━━━━━━━━━━━━━━━━━━━━━━━━━━━━━━━━━━━━━━━\u001b[0m \u001b[32m317.3/317.3 MB\u001b[0m \u001b[31m4.2 MB/s\u001b[0m eta \u001b[36m0:00:00\u001b[0m\n",
            "\u001b[?25h  Preparing metadata (setup.py) ... \u001b[?25l\u001b[?25hdone\n",
            "Requirement already satisfied: py4j==0.10.9.7 in /usr/local/lib/python3.10/dist-packages (from pyspark) (0.10.9.7)\n",
            "Building wheels for collected packages: pyspark\n",
            "  Building wheel for pyspark (setup.py) ... \u001b[?25l\u001b[?25hdone\n",
            "  Created wheel for pyspark: filename=pyspark-3.5.2-py2.py3-none-any.whl size=317812365 sha256=fcf184ec290f2b0dd7481f7dbf8c3892c82a4c54aa87906c7a15e516e844897a\n",
            "  Stored in directory: /root/.cache/pip/wheels/34/34/bd/03944534c44b677cd5859f248090daa9fb27b3c8f8e5f49574\n",
            "Successfully built pyspark\n",
            "Installing collected packages: pyspark\n",
            "Successfully installed pyspark-3.5.2\n"
          ]
        }
      ],
      "source": [
        "pip install pyspark"
      ]
    },
    {
      "cell_type": "code",
      "source": [
        "pip install yfinance pandas sqlalchemy"
      ],
      "metadata": {
        "colab": {
          "base_uri": "https://localhost:8080/"
        },
        "id": "d3BN4qnXo2OD",
        "outputId": "28812024-7cb2-4e5b-b614-e6baf510d1ce"
      },
      "execution_count": 2,
      "outputs": [
        {
          "output_type": "stream",
          "name": "stdout",
          "text": [
            "Requirement already satisfied: yfinance in /usr/local/lib/python3.10/dist-packages (0.2.43)\n",
            "Requirement already satisfied: pandas in /usr/local/lib/python3.10/dist-packages (2.1.4)\n",
            "Requirement already satisfied: sqlalchemy in /usr/local/lib/python3.10/dist-packages (2.0.34)\n",
            "Requirement already satisfied: numpy>=1.16.5 in /usr/local/lib/python3.10/dist-packages (from yfinance) (1.26.4)\n",
            "Requirement already satisfied: requests>=2.31 in /usr/local/lib/python3.10/dist-packages (from yfinance) (2.32.3)\n",
            "Requirement already satisfied: multitasking>=0.0.7 in /usr/local/lib/python3.10/dist-packages (from yfinance) (0.0.11)\n",
            "Requirement already satisfied: lxml>=4.9.1 in /usr/local/lib/python3.10/dist-packages (from yfinance) (4.9.4)\n",
            "Requirement already satisfied: platformdirs>=2.0.0 in /usr/local/lib/python3.10/dist-packages (from yfinance) (4.3.2)\n",
            "Requirement already satisfied: pytz>=2022.5 in /usr/local/lib/python3.10/dist-packages (from yfinance) (2024.2)\n",
            "Requirement already satisfied: frozendict>=2.3.4 in /usr/local/lib/python3.10/dist-packages (from yfinance) (2.4.4)\n",
            "Requirement already satisfied: peewee>=3.16.2 in /usr/local/lib/python3.10/dist-packages (from yfinance) (3.17.6)\n",
            "Requirement already satisfied: beautifulsoup4>=4.11.1 in /usr/local/lib/python3.10/dist-packages (from yfinance) (4.12.3)\n",
            "Requirement already satisfied: html5lib>=1.1 in /usr/local/lib/python3.10/dist-packages (from yfinance) (1.1)\n",
            "Requirement already satisfied: python-dateutil>=2.8.2 in /usr/local/lib/python3.10/dist-packages (from pandas) (2.8.2)\n",
            "Requirement already satisfied: tzdata>=2022.1 in /usr/local/lib/python3.10/dist-packages (from pandas) (2024.1)\n",
            "Requirement already satisfied: typing-extensions>=4.6.0 in /usr/local/lib/python3.10/dist-packages (from sqlalchemy) (4.12.2)\n",
            "Requirement already satisfied: greenlet!=0.4.17 in /usr/local/lib/python3.10/dist-packages (from sqlalchemy) (3.1.0)\n",
            "Requirement already satisfied: soupsieve>1.2 in /usr/local/lib/python3.10/dist-packages (from beautifulsoup4>=4.11.1->yfinance) (2.6)\n",
            "Requirement already satisfied: six>=1.9 in /usr/local/lib/python3.10/dist-packages (from html5lib>=1.1->yfinance) (1.16.0)\n",
            "Requirement already satisfied: webencodings in /usr/local/lib/python3.10/dist-packages (from html5lib>=1.1->yfinance) (0.5.1)\n",
            "Requirement already satisfied: charset-normalizer<4,>=2 in /usr/local/lib/python3.10/dist-packages (from requests>=2.31->yfinance) (3.3.2)\n",
            "Requirement already satisfied: idna<4,>=2.5 in /usr/local/lib/python3.10/dist-packages (from requests>=2.31->yfinance) (3.8)\n",
            "Requirement already satisfied: urllib3<3,>=1.21.1 in /usr/local/lib/python3.10/dist-packages (from requests>=2.31->yfinance) (2.0.7)\n",
            "Requirement already satisfied: certifi>=2017.4.17 in /usr/local/lib/python3.10/dist-packages (from requests>=2.31->yfinance) (2024.8.30)\n"
          ]
        }
      ]
    },
    {
      "cell_type": "code",
      "source": [
        "import numpy as np"
      ],
      "metadata": {
        "id": "BMswJHXOtFvA"
      },
      "execution_count": 9,
      "outputs": []
    },
    {
      "cell_type": "markdown",
      "source": [
        "1.DATA COLLECTION\n"
      ],
      "metadata": {
        "id": "R7ezDHwNqfrP"
      }
    },
    {
      "cell_type": "code",
      "source": [
        "import yfinance as yf\n",
        "import pandas as pd\n",
        "\n",
        "\n",
        "# Define the stock symbol and date range\n",
        "symbol = 'MSFT'  # Example: STOCK TECHNOLOGY\n",
        "start_date = '2024-01-01'\n",
        "end_date = '2024-09-30'\n",
        "\n",
        "# Download the stock data using yfinance\n",
        "stock_data = yf.download(symbol, start=start_date, end=end_date, interval='1d')\n",
        "\n",
        "# Reset index to have 'Date' as a column\n",
        "stock_data.reset_index(inplace=True)\n",
        "\n",
        "# Rename columns to match your desired schema\n",
        "stock_data.rename(columns={\n",
        "    'Date': 'trade_date',\n",
        "    'Open': 'open_price',\n",
        "    'High': 'high_price',\n",
        "    'Low': 'low_price',\n",
        "    'Close': 'close_price',\n",
        "    'Volume': 'volume'\n",
        "}, inplace=True)\n",
        "\n"
      ],
      "metadata": {
        "colab": {
          "base_uri": "https://localhost:8080/"
        },
        "id": "PWJmC7uLo-cb",
        "outputId": "3e53091f-3f23-4f97-d7ed-ccf0e16a545e"
      },
      "execution_count": 23,
      "outputs": [
        {
          "output_type": "stream",
          "name": "stderr",
          "text": [
            "\r[*********************100%***********************]  1 of 1 completed\n"
          ]
        }
      ]
    },
    {
      "cell_type": "code",
      "source": [
        "print(stock_data.head())"
      ],
      "metadata": {
        "colab": {
          "base_uri": "https://localhost:8080/"
        },
        "id": "oIu9SYm6rSzB",
        "outputId": "706bb468-e7d7-48f5-fdfb-ed230b8b86a9"
      },
      "execution_count": 24,
      "outputs": [
        {
          "output_type": "stream",
          "name": "stdout",
          "text": [
            "  trade_date  open_price  high_price   low_price  close_price   Adj Close  \\\n",
            "0 2024-01-02  373.859985  375.899994  366.769989   370.869995  368.854095   \n",
            "1 2024-01-03  369.010010  373.260010  368.510010   370.600006  368.585571   \n",
            "2 2024-01-04  370.670013  373.100006  367.170013   367.940002  365.940002   \n",
            "3 2024-01-05  368.970001  372.059998  366.500000   367.750000  365.751038   \n",
            "4 2024-01-08  369.299988  375.200012  369.010010   374.690002  372.653351   \n",
            "\n",
            "     volume  \n",
            "0  25258600  \n",
            "1  23083500  \n",
            "2  20901500  \n",
            "3  20987000  \n",
            "4  23134000  \n"
          ]
        }
      ]
    },
    {
      "cell_type": "markdown",
      "source": [
        "2.DATA PREPOCESSING\n"
      ],
      "metadata": {
        "id": "TLyGsvyDqsE-"
      }
    },
    {
      "cell_type": "code",
      "source": [
        "# Check for missing values\n",
        "print(stock_data.isnull().sum())"
      ],
      "metadata": {
        "colab": {
          "base_uri": "https://localhost:8080/"
        },
        "id": "EX22wvkNpQeU",
        "outputId": "ae10a4f1-8383-44ce-dc7d-ef8b6cb9206a"
      },
      "execution_count": 25,
      "outputs": [
        {
          "output_type": "stream",
          "name": "stdout",
          "text": [
            "trade_date     0\n",
            "open_price     0\n",
            "high_price     0\n",
            "low_price      0\n",
            "close_price    0\n",
            "Adj Close      0\n",
            "volume         0\n",
            "dtype: int64\n"
          ]
        }
      ]
    },
    {
      "cell_type": "code",
      "source": [
        "# Fill missing values if necessary, e.g., using forward fill\n",
        "stock_data.fillna(method='ffill', inplace=True)"
      ],
      "metadata": {
        "colab": {
          "base_uri": "https://localhost:8080/"
        },
        "id": "nkev3_7TrnHW",
        "outputId": "c39f8ba3-9af4-4d07-a90f-ec91c3088281"
      },
      "execution_count": 26,
      "outputs": [
        {
          "output_type": "stream",
          "name": "stderr",
          "text": [
            "<ipython-input-26-cb3fcad91f3d>:2: FutureWarning: DataFrame.fillna with 'method' is deprecated and will raise in a future version. Use obj.ffill() or obj.bfill() instead.\n",
            "  stock_data.fillna(method='ffill', inplace=True)\n"
          ]
        }
      ]
    },
    {
      "cell_type": "code",
      "source": [
        "# Convert index to datetime\n",
        "stock_data.index = pd.to_datetime(stock_data.index)\n",
        "\n",
        "# Ensure all columns are numeric\n",
        "stock_data = stock_data.apply(pd.to_numeric, errors='coerce')"
      ],
      "metadata": {
        "id": "EQ0CV7rXzhVo"
      },
      "execution_count": 30,
      "outputs": []
    },
    {
      "cell_type": "code",
      "source": [
        "## Normalise Data\n",
        "# Example: Min-Max normalization\n",
        "from sklearn.preprocessing import MinMaxScaler\n",
        "\n",
        "scaler = MinMaxScaler()\n",
        "scaled_data = pd.DataFrame(scaler.fit_transform(stock_data), columns=stock_data.columns, index=stock_data.index)\n",
        "\n"
      ],
      "metadata": {
        "id": "r7BtxhjiyPaL"
      },
      "execution_count": 31,
      "outputs": []
    },
    {
      "cell_type": "code",
      "source": [
        "\n",
        "print(scaled_data.head())\n"
      ],
      "metadata": {
        "colab": {
          "base_uri": "https://localhost:8080/"
        },
        "id": "_trNzjeTytAw",
        "outputId": "2e333d19-b75e-4073-837a-a64480401bfe"
      },
      "execution_count": 32,
      "outputs": [
        {
          "output_type": "stream",
          "name": "stdout",
          "text": [
            "                               Open      High       Low     Close    Volume\n",
            "Datetime                                                                   \n",
            "2024-09-17 09:30:00-04:00  0.469482  0.526976  0.390454  0.422502  1.000000\n",
            "2024-09-17 09:31:00-04:00  0.413147  0.449078  0.351410  0.292518  0.201309\n",
            "2024-09-17 09:32:00-04:00  0.291077  0.087957  0.069416  0.009336  0.316165\n",
            "2024-09-17 09:33:00-04:00  0.000000  0.041973  0.019522  0.208952  0.223991\n",
            "2024-09-17 09:34:00-04:00  0.194832  0.000000  0.082431  0.000000  0.157287\n"
          ]
        }
      ]
    },
    {
      "cell_type": "markdown",
      "source": [
        "3.FEATURE ENGINEERING"
      ],
      "metadata": {
        "id": "mpO63ZdDz6gd"
      }
    },
    {
      "cell_type": "code",
      "source": [
        "# Daily price change\n",
        "stock_data['Price Change'] = stock_data['Close'].pct_change()\n"
      ],
      "metadata": {
        "id": "Pod-hj99zYXv"
      },
      "execution_count": 33,
      "outputs": []
    },
    {
      "cell_type": "code",
      "source": [
        "#RSI\n",
        "def calculate_rsi(data, window=14):\n",
        "    delta = data['Close'].diff()\n",
        "    gain = delta.where(delta > 0, 0)\n",
        "    loss = -delta.where(delta < 0, 0)\n",
        "    avg_gain = gain.rolling(window=window, min_periods=1).mean()\n",
        "    avg_loss = loss.rolling(window=window, min_periods=1).mean()\n",
        "    rs = avg_gain / avg_loss\n",
        "    rsi = 100 - (100 / (1 + rs))\n",
        "    return rsi\n",
        "\n",
        "stock_data['RSI'] = calculate_rsi(stock_data)\n",
        "\n"
      ],
      "metadata": {
        "id": "CXqeoSALz-JH"
      },
      "execution_count": 35,
      "outputs": []
    },
    {
      "cell_type": "code",
      "source": [
        "#VOLATITY\n",
        "# Calculate daily returns\n",
        "stock_data['Daily Return'] = stock_data['Close'].pct_change()\n",
        "\n",
        "# Calculate rolling volatility (standard deviation)\n",
        "stock_data['Volatility'] = stock_data['Daily Return'].rolling(window=21).std()\n",
        "\n"
      ],
      "metadata": {
        "id": "bKKk3fzI0CYA"
      },
      "execution_count": 36,
      "outputs": []
    },
    {
      "cell_type": "code",
      "source": [
        "# Calculate moving averages\n",
        "stock_data['SMA_20'] = stock_data['Close'].rolling(window=20).mean()\n",
        "stock_data['SMA_50'] = stock_data['Close'].rolling(window=50).mean()\n"
      ],
      "metadata": {
        "id": "PyFiGXeR0cIN"
      },
      "execution_count": 37,
      "outputs": []
    },
    {
      "cell_type": "code",
      "source": [
        "## BOLLINGER BANDS\n",
        "def calculate_bollinger_bands(data, window=20, num_sd=2):\n",
        "    sma = data['Close'].rolling(window=window).mean()\n",
        "    rolling_std = data['Close'].rolling(window=window).std()\n",
        "    data['Bollinger Upper'] = sma + (rolling_std * num_sd)\n",
        "    data['Bollinger Lower'] = sma - (rolling_std * num_sd)\n",
        "    return data\n",
        "\n",
        "stock_data = calculate_bollinger_bands(stock_data)\n"
      ],
      "metadata": {
        "id": "z8a1iTds0e0b"
      },
      "execution_count": 39,
      "outputs": []
    },
    {
      "cell_type": "code",
      "source": [
        "print(stock_data.head())\n"
      ],
      "metadata": {
        "colab": {
          "base_uri": "https://localhost:8080/"
        },
        "id": "UTeAKz810ldE",
        "outputId": "a32e8ae5-4f19-4fb1-b91a-dca1ed5eea35"
      },
      "execution_count": 40,
      "outputs": [
        {
          "output_type": "stream",
          "name": "stdout",
          "text": [
            "                                 Open        High         Low       Close  \\\n",
            "Datetime                                                                    \n",
            "2024-09-17 09:30:00-04:00  215.750000  216.110001  215.399994  215.630005   \n",
            "2024-09-17 09:31:00-04:00  215.630005  215.979904  215.309998  215.350006   \n",
            "2024-09-17 09:32:00-04:00  215.369995  215.376801  214.660004  214.740005   \n",
            "2024-09-17 09:33:00-04:00  214.750000  215.300003  214.544998  215.169998   \n",
            "2024-09-17 09:34:00-04:00  215.164993  215.229904  214.690002  214.719894   \n",
            "\n",
            "                            Volume  Price Change        RSI  Daily Return  \\\n",
            "Datetime                                                                    \n",
            "2024-09-17 09:30:00-04:00  1703475           NaN        NaN           NaN   \n",
            "2024-09-17 09:31:00-04:00   342925     -0.001299   0.000000     -0.001299   \n",
            "2024-09-17 09:32:00-04:00   538579     -0.002833   0.000000     -0.002833   \n",
            "2024-09-17 09:33:00-04:00   381563      0.002002  32.575399      0.002002   \n",
            "2024-09-17 09:34:00-04:00   267935     -0.002092  24.292056     -0.002092   \n",
            "\n",
            "                           Volatility  SMA_20  SMA_50  Bollinger Upper  \\\n",
            "Datetime                                                                 \n",
            "2024-09-17 09:30:00-04:00         NaN     NaN     NaN              NaN   \n",
            "2024-09-17 09:31:00-04:00         NaN     NaN     NaN              NaN   \n",
            "2024-09-17 09:32:00-04:00         NaN     NaN     NaN              NaN   \n",
            "2024-09-17 09:33:00-04:00         NaN     NaN     NaN              NaN   \n",
            "2024-09-17 09:34:00-04:00         NaN     NaN     NaN              NaN   \n",
            "\n",
            "                           Bollinger Lower  \n",
            "Datetime                                    \n",
            "2024-09-17 09:30:00-04:00              NaN  \n",
            "2024-09-17 09:31:00-04:00              NaN  \n",
            "2024-09-17 09:32:00-04:00              NaN  \n",
            "2024-09-17 09:33:00-04:00              NaN  \n",
            "2024-09-17 09:34:00-04:00              NaN  \n"
          ]
        }
      ]
    },
    {
      "cell_type": "code",
      "source": [],
      "metadata": {
        "id": "2S7l3n0I0pdo"
      },
      "execution_count": null,
      "outputs": []
    }
  ]
}